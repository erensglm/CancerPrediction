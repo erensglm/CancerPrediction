{
 "cells": [
  {
   "cell_type": "code",
   "execution_count": null,
   "id": "17833d59-bd19-4684-9a10-79e9fad8e3db",
   "metadata": {},
   "outputs": [],
   "source": [
    "import numpy as np\n",
    "import pandas as pd\n",
    "import statsmodels.api as sm\n",
    "import seaborn as sns\n",
    "import matplotlib.pyplot as plt\n",
    "from sklearn.preprocessing import scale, StandardScaler\n",
    "from sklearn.model_selection import train_test_split, GridSearchCV, cross_val_score\n",
    "from sklearn.metrics import confusion_matrix, accuracy_score, mean_squared_error, r2_score, roc_auc_score, roc_curve, classification_report\n",
    "from imblearn.metrics import classification_report_imbalanced"
   ]
  },
  {
   "cell_type": "code",
   "execution_count": null,
   "id": "b07211ae-5256-4e1c-9409-37c68c3c8eda",
   "metadata": {},
   "outputs": [],
   "source": [
    "data = pd.read_csv(\"data.csv\")\n",
    "labels = pd.read_csv(\"labels.csv\")"
   ]
  },
  {
   "cell_type": "code",
   "execution_count": null,
   "id": "965b4f3d-7222-45b1-8fd9-a70e16b70145",
   "metadata": {},
   "outputs": [],
   "source": [
    "data.head()"
   ]
  },
  {
   "cell_type": "code",
   "execution_count": null,
   "id": "77fe98f1-cc44-4f8b-b129-95ff7e06d5cf",
   "metadata": {},
   "outputs": [],
   "source": [
    "labels.head()"
   ]
  },
  {
   "cell_type": "code",
   "execution_count": null,
   "id": "c10ef9fb-8f40-46bd-ac59-77abab7dfc92",
   "metadata": {},
   "outputs": [],
   "source": [
    "plt.figure( figsize= (5,5))\n",
    "plt.pie((labels.disease_type.value_counts())/100 , labels=pd.unique(labels.disease_type), startangle\n",
    "=180 , autopct='%1.1f%%' ,textprops={ 'fontsize': 10 , 'rotation':0}, shadow=True, radius=1.25)\n",
    "plt.show()"
   ]
  },
  {
   "cell_type": "code",
   "execution_count": null,
   "id": "8332b43c-8bcb-437d-b6ba-6c463b48b5ee",
   "metadata": {},
   "outputs": [],
   "source": [
    "plt.figure(figsize=(8, 5))\n",
    "sns.countplot(y=labels.disease_type, hue=labels.disease_type, palette='magma', dodge=False, legend=False)\n",
    "plt.xlabel('Count', fontsize=12)\n",
    "plt.ylabel('Disease Type', fontsize=12)\n",
    "plt.title('Distribution of Disease Types', fontsize=14)\n",
    "plt.show()"
   ]
  },
  {
   "cell_type": "code",
   "execution_count": null,
   "id": "1c370d6a-a4e6-41a9-9f96-4c1a2d6936e9",
   "metadata": {},
   "outputs": [],
   "source": [
    "from sklearn.decomposition import PCA\n",
    "\n",
    "pca = PCA(n_components=2)\n",
    "principal_components = pca.fit_transform(data.iloc[:, 1:])\n",
    "principal_df = pd.DataFrame(data=principal_components, columns=['PC1', 'PC2'])\n",
    "\n",
    "final_df = pd.concat([principal_df, labels['disease_type']], axis=1)\n",
    "\n",
    "plt.figure(figsize=(10, 8))\n",
    "sns.scatterplot(x='PC1', y='PC2', hue='disease_type', data=final_df, palette='viridis')\n",
    "plt.title('PCA Visualization')\n",
    "plt.show()"
   ]
  },
  {
   "cell_type": "markdown",
   "id": "4223660b-24ad-434b-8f0c-1a1beff543c6",
   "metadata": {},
   "source": [
    "# RANDOM FOREST"
   ]
  },
  {
   "cell_type": "code",
   "execution_count": null,
   "id": "d5b5de5f-ab07-4969-8d0c-315e53e8754e",
   "metadata": {},
   "outputs": [],
   "source": [
    "X = data.drop(['Unnamed: 0'], axis=1)\n",
    "y = labels.disease_type"
   ]
  },
  {
   "cell_type": "code",
   "execution_count": null,
   "id": "089a7805-1c33-4a08-a141-91b4e9140619",
   "metadata": {},
   "outputs": [],
   "source": [
    "X_train, X_test, y_train, y_test = train_test_split(X, y, test_size = 0.2 , random_state=42)"
   ]
  },
  {
   "cell_type": "code",
   "execution_count": null,
   "id": "2efff519-ca80-48f2-a59a-a050a090c38e",
   "metadata": {},
   "outputs": [],
   "source": [
    "from sklearn.model_selection import GridSearchCV\n",
    "from sklearn.ensemble import RandomForestClassifier\n",
    "from sklearn.model_selection import StratifiedKFold\n",
    "\n",
    "rf = RandomForestClassifier()\n",
    "\n",
    "param_grid = {\n",
    "     'n_estimators': [50, 100],\n",
    "    'max_features': [7, 19, 21],\n",
    "    'min_samples_split': [3, 7, 11],\n",
    "    'max_depth': [3, 7, 11]\n",
    "}"
   ]
  },
  {
   "cell_type": "code",
   "execution_count": null,
   "id": "a86b310f-7c73-4121-b51f-2560fd09c15e",
   "metadata": {},
   "outputs": [],
   "source": [
    "# StratifiedKFold kullanarak çapraz doğrulama stratejisini belirle\n",
    "cv = StratifiedKFold(n_splits=3)\n",
    "\n",
    "grid_search = GridSearchCV(estimator=rf, param_grid=param_grid, cv=cv, scoring='accuracy')\n",
    "\n",
    "grid_search.fit(X_train, y_train)\n",
    "\n",
    "print(\"En iyi parametreler:\", grid_search.best_params_)\n",
    "print(\"En iyi doğruluk:\", grid_search.best_score_)"
   ]
  },
  {
   "cell_type": "code",
   "execution_count": null,
   "id": "fc12871c-b09f-4a05-b25e-8d0ebb5659b2",
   "metadata": {},
   "outputs": [],
   "source": [
    "best_params_rf =  grid_search.best_params_"
   ]
  },
  {
   "cell_type": "code",
   "execution_count": null,
   "id": "641cd626-036a-4e19-a1a5-a4d622604bc8",
   "metadata": {},
   "outputs": [],
   "source": [
    "rf = RandomForestClassifier(max_depth=best_params_rf['max_depth'], \n",
    "                            max_features=best_params_rf['max_features'], \n",
    "                            min_samples_split=best_params_rf['min_samples_split'], \n",
    "                            n_estimators=best_params_rf['n_estimators']).fit(X_train, y_train)"
   ]
  },
  {
   "cell_type": "code",
   "execution_count": null,
   "id": "55a4f75b-9514-4bf5-87d8-4738617a9486",
   "metadata": {},
   "outputs": [],
   "source": [
    "y_pred = rf.predict(X_test)"
   ]
  },
  {
   "cell_type": "code",
   "execution_count": null,
   "id": "54864cde-988e-410b-aac5-99df40ce6a01",
   "metadata": {},
   "outputs": [],
   "source": [
    "accuracy_score(y_test, y_pred)"
   ]
  },
  {
   "cell_type": "code",
   "execution_count": null,
   "id": "5bd9674f-8d0a-4750-a33f-ec7e68e11905",
   "metadata": {},
   "outputs": [],
   "source": [
    "cross_val_score(rf, X_test, y_test, cv=3).mean()"
   ]
  },
  {
   "cell_type": "code",
   "execution_count": null,
   "id": "ca78dfb5-d9a8-4448-8a64-f2c21ba4bf44",
   "metadata": {},
   "outputs": [],
   "source": [
    "from imblearn.metrics import sensitivity_specificity_support\n",
    "sensitivity_specificity_support(y_test, y_pred, average='micro', labels=pd.unique(labels.disease_type))"
   ]
  },
  {
   "cell_type": "code",
   "execution_count": null,
   "id": "801f1c62-3190-426a-97f0-a81d06874929",
   "metadata": {},
   "outputs": [],
   "source": [
    "print(classification_report_imbalanced(y_test, y_pred, target_names=pd.unique(labels.disease_type)))"
   ]
  },
  {
   "cell_type": "code",
   "execution_count": null,
   "id": "3f00d59c-cfde-4199-9de8-6d38f1d02c3b",
   "metadata": {},
   "outputs": [],
   "source": [
    "cm = confusion_matrix(y_test, y_pred)\n",
    "plt.figure(figsize=(7,7))\n",
    "sns.heatmap(cm, annot=True, fmt=\"d\", linewidths=0.7 ,cbar=False, xticklabels=pd.unique(labels.disease_type),yticklabels=pd.unique(labels.disease_type))\n",
    "plt.show()"
   ]
  },
  {
   "cell_type": "markdown",
   "id": "b3eaba9a-8d19-4a53-bd6f-fb72672eac6c",
   "metadata": {},
   "source": [
    "# XGBoost"
   ]
  },
  {
   "cell_type": "markdown",
   "id": "4c2171ce-24eb-4e7d-bbdc-51e68c817ba8",
   "metadata": {},
   "source": [
    "# fix "
   ]
  },
  {
   "cell_type": "code",
   "execution_count": null,
   "id": "5e0084fb-f1aa-4890-96e2-2ae40dfaa13a",
   "metadata": {},
   "outputs": [],
   "source": [
    "print(\"Gerçek Etiketler:\", y_test)\n",
    "print(\"Tahminler:\", y_pred_single_class)"
   ]
  },
  {
   "cell_type": "code",
   "execution_count": null,
   "id": "4b3680d5-5dba-40b3-b4ba-d968cb612d61",
   "metadata": {},
   "outputs": [],
   "source": [
    "from xgboost import XGBClassifier"
   ]
  },
  {
   "cell_type": "code",
   "execution_count": null,
   "id": "85986731-f76c-40d7-abe0-4308c34e8d83",
   "metadata": {},
   "outputs": [],
   "source": [
    "xgboost = XGBClassifier()"
   ]
  },
  {
   "cell_type": "code",
   "execution_count": null,
   "id": "dab879bf-4f41-40d0-93f7-ce3123bdda80",
   "metadata": {},
   "outputs": [],
   "source": [
    "xgboost_params = {'learning_rate': [0.1, 0.01, 0.001],\n",
    "            'subsample':[0.6, 0.8, 1],\n",
    "            'n_estimators': [100,500],\n",
    "            'max_depth':[3,5,7]}"
   ]
  },
  {
   "cell_type": "code",
   "execution_count": null,
   "id": "0141860e-5618-4acd-9843-3b752b205324",
   "metadata": {},
   "outputs": [],
   "source": [
    "from sklearn.preprocessing import LabelEncoder\n",
    "\n",
    "# LabelEncoder oluşturun\n",
    "label_encoder = LabelEncoder()\n",
    "\n",
    "# Hastalık türlerini sayısal olarak kodlayın\n",
    "y_train_encoded = label_encoder.fit_transform(labels['disease_type'])\n",
    "\n",
    "# GridSearchCV ile modeli eğitin\n",
    "xgboost_cv_model = GridSearchCV(xgboost, xgboost_params, cv=10, n_jobs=-1, verbose=2)\n",
    "xgboost_cv_model.fit(X_train, y_train_encoded)\n",
    "\n",
    "# Test verisi tahminlerini yapın\n",
    "y_pred_encoded = xgboost_cv_model.predict(X_test)"
   ]
  },
  {
   "cell_type": "code",
   "execution_count": null,
   "id": "df336de3-7de3-41a4-aa1d-d2654a02fd6b",
   "metadata": {},
   "outputs": [],
   "source": [
    "xgboost_cv_model"
   ]
  },
  {
   "cell_type": "code",
   "execution_count": null,
   "id": "7b52171e-008f-4722-a00e-550bdb9bb39d",
   "metadata": {},
   "outputs": [],
   "source": [
    "best_params_xgb = xgboost_cv_model.best_params_"
   ]
  },
  {
   "cell_type": "code",
   "execution_count": null,
   "id": "b4735279-1c30-4604-9a63-7bf24c109594",
   "metadata": {},
   "outputs": [],
   "source": [
    "xgboost = XGBClassifier(\n",
    "    learning_rate=best_params_xgb['learning_rate'], \n",
    "    max_depth=best_params_xgb['max_depth'], \n",
    "    n_estimators=best_params_xgb['n_estimators'], \n",
    "    subsample=best_params_xgb['subsample']).fit(X_train, y_train)"
   ]
  },
  {
   "cell_type": "code",
   "execution_count": null,
   "id": "9ab41335-9a6e-4ff5-8c16-730df5595366",
   "metadata": {},
   "outputs": [],
   "source": [
    "y_pred = xgboost.predict(X_test)"
   ]
  },
  {
   "cell_type": "code",
   "execution_count": null,
   "id": "4f49e3b7-44f0-414c-bf94-08109e4b9ce8",
   "metadata": {},
   "outputs": [],
   "source": [
    "accuracy_score(y_test, y_pred)"
   ]
  },
  {
   "cell_type": "code",
   "execution_count": null,
   "id": "81dcc9e1-ca00-409b-b924-3c6a4acaa12f",
   "metadata": {},
   "outputs": [],
   "source": [
    "cross_val_score(xgboost, X_test, y_test, cv=21).mean()"
   ]
  },
  {
   "cell_type": "code",
   "execution_count": null,
   "id": "9d411ee1-5f6c-406d-86ed-be5644060b98",
   "metadata": {},
   "outputs": [],
   "source": [
    "from imblearn.metrics import sensitivity_specificity_support\n",
    "sensitivity_specificity_support(y_test, y_pred, average='micro', labels=pd.unique(labels.disease_type))"
   ]
  },
  {
   "cell_type": "code",
   "execution_count": null,
   "id": "411da40f-f800-4823-a317-f38df43fdc5a",
   "metadata": {},
   "outputs": [],
   "source": [
    "print(classification_report_imbalanced(y_test, y_pred, target_names=pd.unique(labels.disease_type)))"
   ]
  },
  {
   "cell_type": "code",
   "execution_count": null,
   "id": "dbdb7d11-e231-4417-977a-68648b7efd2c",
   "metadata": {},
   "outputs": [],
   "source": [
    "cm = confusion_matrix(y_test, y_pred)\n",
    "plt.figure(figsize=(7,7))\n",
    "sns.heatmap(cm, annot=True, fmt=\"d\", linewidths=0.7 ,cbar=False, xticklabels=pd.unique(labels.disease_type),yticklabels=pd.unique(labels.disease_type))\n",
    "plt.show()"
   ]
  },
  {
   "cell_type": "markdown",
   "id": "19eb0eef-8c16-4338-959e-693d124a6bcf",
   "metadata": {},
   "source": [
    "# Conclusion"
   ]
  },
  {
   "cell_type": "code",
   "execution_count": null,
   "id": "0705eb03-5377-466e-a2d8-92bea7481032",
   "metadata": {},
   "outputs": [],
   "source": [
    "models = [rf, xgboost]\n",
    "result = []\n",
    "results = pd.DataFrame(columns=['Models', \"Accuracy\"])\n",
    "\n",
    "for model in models:\n",
    "    names = model.__class__.__name__\n",
    "    print(names)\n",
    "    if names == 'MLPClassifier':\n",
    "        y_pred = model.predict(X_test_scaler)\n",
    "    else:\n",
    "        y_pred = model.predict(X_test)\n",
    "    acc = accuracy_score(y_test, y_pred)\n",
    "    result = pd.DataFrame([[names, acc*100]], columns=['Models', 'Accuracy'])\n",
    "    results = results.append(result)"
   ]
  },
  {
   "cell_type": "code",
   "execution_count": null,
   "id": "a880e64e-9a6f-47ae-9d12-e9ad08297ab9",
   "metadata": {},
   "outputs": [],
   "source": [
    "sns.barplot(x='Accuracy', y='Models', data=results, color='r')\n",
    "plt.xlabel('Accuracy %')\n",
    "plt.title('Modellerin Doğruluk Oranları');"
   ]
  },
  {
   "cell_type": "code",
   "execution_count": null,
   "id": "f4c9b1f9-0a1a-43f3-8463-7789591b563c",
   "metadata": {},
   "outputs": [],
   "source": [
    "results"
   ]
  }
 ],
 "metadata": {
  "kernelspec": {
   "display_name": "Python 3 (ipykernel)",
   "language": "python",
   "name": "python3"
  },
  "language_info": {
   "codemirror_mode": {
    "name": "ipython",
    "version": 3
   },
   "file_extension": ".py",
   "mimetype": "text/x-python",
   "name": "python",
   "nbconvert_exporter": "python",
   "pygments_lexer": "ipython3",
   "version": "3.12.2"
  }
 },
 "nbformat": 4,
 "nbformat_minor": 5
}
